{
 "cells": [
  {
   "cell_type": "code",
   "execution_count": 33,
   "id": "c9369d6e",
   "metadata": {},
   "outputs": [],
   "source": [
    "import pandas as pd\n",
    "import numpy as np\n",
    "import matplotlib.pyplot as plt\n",
    "import seaborn as sns\n",
    "import os"
   ]
  },
  {
   "cell_type": "code",
   "execution_count": 34,
   "id": "1ba8e4b0",
   "metadata": {},
   "outputs": [],
   "source": [
    "df=pd.read_csv(\"../Dataset/ETFs/aaxj.us.csv\")"
   ]
  },
  {
   "cell_type": "code",
   "execution_count": 35,
   "id": "468048bc",
   "metadata": {},
   "outputs": [],
   "source": [
    "df['last_return']=(df['Close'].shift(1)-df['Close'].shift(2))/df['Close'].shift(2)"
   ]
  },
  {
   "cell_type": "code",
   "execution_count": 36,
   "id": "35c7dfd4",
   "metadata": {},
   "outputs": [],
   "source": [
    "df['rolling_mean']=df['Close'].shift(1).rolling(20).mean()"
   ]
  },
  {
   "cell_type": "code",
   "execution_count": 37,
   "id": "82ea7fed",
   "metadata": {},
   "outputs": [],
   "source": [
    "df['rolling_volatility']=df['Close'].shift(1).rolling(10).std()"
   ]
  },
  {
   "cell_type": "code",
   "execution_count": 38,
   "id": "5f730b58",
   "metadata": {},
   "outputs": [],
   "source": [
    "df['intraday_strength']=df['Close'].shift(1)/df['Open'].shift(1)"
   ]
  },
  {
   "cell_type": "code",
   "execution_count": 39,
   "id": "d893d7b7",
   "metadata": {},
   "outputs": [],
   "source": [
    "df['volume_anomaly']=df['Volume'].shift(1)/df['Volume'].shift(1).rolling(20).mean()"
   ]
  },
  {
   "cell_type": "code",
   "execution_count": 40,
   "id": "9d385b0c",
   "metadata": {},
   "outputs": [],
   "source": [
    "day_mapping={\n",
    "    'Monday':0,\n",
    "    'Tuesday':1,\n",
    "    'Wednesday':2,\n",
    "    'Thursday':3,\n",
    "    'Friday':4\n",
    "}\n",
    "df['day_of_week'] = df.apply(lambda row: day_mapping[pd.to_datetime(row['Date']).day_name()],axis=1)"
   ]
  },
  {
   "cell_type": "code",
   "execution_count": 41,
   "id": "22258dc7",
   "metadata": {},
   "outputs": [],
   "source": [
    "df['cos_day']=np.cos((2*np.pi*df['day_of_week'])/7)\n",
    "df['sin_day']=np.sin((2*np.pi*df['day_of_week'])/7)"
   ]
  },
  {
   "cell_type": "code",
   "execution_count": 42,
   "id": "5c8364e6",
   "metadata": {},
   "outputs": [],
   "source": [
    "df.drop(labels=['Date','day_of_week','OpenInt'],axis=1,inplace=True)"
   ]
  },
  {
   "cell_type": "code",
   "execution_count": 43,
   "id": "b2a6ed25",
   "metadata": {},
   "outputs": [
    {
     "data": {
      "text/html": [
       "<div>\n",
       "<style scoped>\n",
       "    .dataframe tbody tr th:only-of-type {\n",
       "        vertical-align: middle;\n",
       "    }\n",
       "\n",
       "    .dataframe tbody tr th {\n",
       "        vertical-align: top;\n",
       "    }\n",
       "\n",
       "    .dataframe thead th {\n",
       "        text-align: right;\n",
       "    }\n",
       "</style>\n",
       "<table border=\"1\" class=\"dataframe\">\n",
       "  <thead>\n",
       "    <tr style=\"text-align: right;\">\n",
       "      <th></th>\n",
       "      <th>Open</th>\n",
       "      <th>High</th>\n",
       "      <th>Low</th>\n",
       "      <th>Close</th>\n",
       "      <th>Volume</th>\n",
       "      <th>last_return</th>\n",
       "      <th>rolling_mean</th>\n",
       "      <th>rolling_volatility</th>\n",
       "      <th>intraday_strength</th>\n",
       "      <th>volume_anomaly</th>\n",
       "      <th>cos_day</th>\n",
       "      <th>sin_day</th>\n",
       "    </tr>\n",
       "  </thead>\n",
       "  <tbody>\n",
       "    <tr>\n",
       "      <th>0</th>\n",
       "      <td>44.886</td>\n",
       "      <td>44.886</td>\n",
       "      <td>44.886</td>\n",
       "      <td>44.886</td>\n",
       "      <td>112</td>\n",
       "      <td>NaN</td>\n",
       "      <td>NaN</td>\n",
       "      <td>NaN</td>\n",
       "      <td>NaN</td>\n",
       "      <td>NaN</td>\n",
       "      <td>-0.900969</td>\n",
       "      <td>-0.433884</td>\n",
       "    </tr>\n",
       "    <tr>\n",
       "      <th>1</th>\n",
       "      <td>44.564</td>\n",
       "      <td>44.564</td>\n",
       "      <td>43.875</td>\n",
       "      <td>43.875</td>\n",
       "      <td>28497</td>\n",
       "      <td>NaN</td>\n",
       "      <td>NaN</td>\n",
       "      <td>NaN</td>\n",
       "      <td>1.000000</td>\n",
       "      <td>NaN</td>\n",
       "      <td>1.000000</td>\n",
       "      <td>0.000000</td>\n",
       "    </tr>\n",
       "    <tr>\n",
       "      <th>2</th>\n",
       "      <td>43.283</td>\n",
       "      <td>43.283</td>\n",
       "      <td>43.283</td>\n",
       "      <td>43.283</td>\n",
       "      <td>112</td>\n",
       "      <td>-0.022524</td>\n",
       "      <td>NaN</td>\n",
       "      <td>NaN</td>\n",
       "      <td>0.984539</td>\n",
       "      <td>NaN</td>\n",
       "      <td>0.623490</td>\n",
       "      <td>0.781831</td>\n",
       "    </tr>\n",
       "    <tr>\n",
       "      <th>3</th>\n",
       "      <td>43.918</td>\n",
       "      <td>43.918</td>\n",
       "      <td>43.892</td>\n",
       "      <td>43.892</td>\n",
       "      <td>4468</td>\n",
       "      <td>-0.013493</td>\n",
       "      <td>NaN</td>\n",
       "      <td>NaN</td>\n",
       "      <td>1.000000</td>\n",
       "      <td>NaN</td>\n",
       "      <td>-0.222521</td>\n",
       "      <td>0.974928</td>\n",
       "    </tr>\n",
       "    <tr>\n",
       "      <th>4</th>\n",
       "      <td>44.097</td>\n",
       "      <td>44.097</td>\n",
       "      <td>44.017</td>\n",
       "      <td>44.071</td>\n",
       "      <td>4006</td>\n",
       "      <td>0.014070</td>\n",
       "      <td>NaN</td>\n",
       "      <td>NaN</td>\n",
       "      <td>0.999408</td>\n",
       "      <td>NaN</td>\n",
       "      <td>-0.900969</td>\n",
       "      <td>-0.433884</td>\n",
       "    </tr>\n",
       "  </tbody>\n",
       "</table>\n",
       "</div>"
      ],
      "text/plain": [
       "     Open    High     Low   Close  Volume  last_return  rolling_mean  \\\n",
       "0  44.886  44.886  44.886  44.886     112          NaN           NaN   \n",
       "1  44.564  44.564  43.875  43.875   28497          NaN           NaN   \n",
       "2  43.283  43.283  43.283  43.283     112    -0.022524           NaN   \n",
       "3  43.918  43.918  43.892  43.892    4468    -0.013493           NaN   \n",
       "4  44.097  44.097  44.017  44.071    4006     0.014070           NaN   \n",
       "\n",
       "   rolling_volatility  intraday_strength  volume_anomaly   cos_day   sin_day  \n",
       "0                 NaN                NaN             NaN -0.900969 -0.433884  \n",
       "1                 NaN           1.000000             NaN  1.000000  0.000000  \n",
       "2                 NaN           0.984539             NaN  0.623490  0.781831  \n",
       "3                 NaN           1.000000             NaN -0.222521  0.974928  \n",
       "4                 NaN           0.999408             NaN -0.900969 -0.433884  "
      ]
     },
     "execution_count": 43,
     "metadata": {},
     "output_type": "execute_result"
    }
   ],
   "source": [
    "df.head()"
   ]
  },
  {
   "cell_type": "code",
   "execution_count": 44,
   "id": "4ecd6e7e",
   "metadata": {},
   "outputs": [],
   "source": [
    "df.drop(index=range(20),inplace=True)\n"
   ]
  },
  {
   "cell_type": "code",
   "execution_count": 45,
   "id": "8d4d5449",
   "metadata": {},
   "outputs": [],
   "source": [
    "df.to_csv('../Dataset/ETFs_feature_set/aaxj.us.csv', index=False)"
   ]
  },
  {
   "cell_type": "code",
   "execution_count": 46,
   "id": "07830acb",
   "metadata": {},
   "outputs": [
    {
     "data": {
      "text/plain": [
       "<Axes: >"
      ]
     },
     "execution_count": 46,
     "metadata": {},
     "output_type": "execute_result"
    },
    {
     "data": {
      "image/png": "[encoded data removed]",
      "text/plain": [
       "<Figure size 640x480 with 2 Axes>"
      ]
     },
     "metadata": {},
     "output_type": "display_data"
    }
   ],
   "source": [
    "corr=df.corr()\n",
    "sns.heatmap(corr)"
   ]
  }
 ],
 "metadata": {
  "kernelspec": {
   "display_name": "Python 3",
   "language": "python",
   "name": "python3"
  },
  "language_info": {
   "codemirror_mode": {
    "name": "ipython",
    "version": 3
   },
   "file_extension": ".py",
   "mimetype": "text/x-python",
   "name": "python",
   "nbconvert_exporter": "python",
   "pygments_lexer": "ipython3",
   "version": "3.13.5"
  }
 },
 "nbformat": 4,
 "nbformat_minor": 5
}
